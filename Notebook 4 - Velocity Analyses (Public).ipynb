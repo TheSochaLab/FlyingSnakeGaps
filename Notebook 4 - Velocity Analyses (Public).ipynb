{
 "cells": [
  {
   "cell_type": "code",
   "execution_count": 1,
   "metadata": {},
   "outputs": [],
   "source": [
    "import numpy as np\n",
    "import glob\n",
    "\n",
    "%matplotlib qt\n",
    "import matplotlib.pyplot as plt\n",
    "import matplotlib as mp\n",
    "import pandas as pd\n",
    "import os"
   ]
  },
  {
   "cell_type": "code",
   "execution_count": 2,
   "metadata": {},
   "outputs": [],
   "source": [
    "#set up colors for plots\n",
    "import matplotlib.colors as colors\n",
    "cmap = plt.get_cmap('terrain')\n",
    "def truncate_colormap(cmap, minval=0.0, maxval=1.0, n=100):\n",
    "    new_cmap = colors.LinearSegmentedColormap.from_list(\n",
    "        'trunc({n},{a:.2f},{b:.2f})'.format(n=cmap.name, a=minval, b=maxval),\n",
    "        cmap(np.linspace(minval, maxval, n)))\n",
    "    return new_cmap\n",
    "new_cmap = truncate_colormap(cmap, 0.0, 0.75)\n",
    "collist = [new_cmap(k) for k in np.linspace(0, 1, 6)]"
   ]
  },
  {
   "cell_type": "code",
   "execution_count": 3,
   "metadata": {},
   "outputs": [],
   "source": [
    "import dill\n",
    "\n",
    "with open('smooth_pos_v8.pkl', 'rb') as var:\n",
    "    sm_pos = dill.load(var)\n",
    "    \n",
    "with open('smooth_vel_v8.pkl', 'rb') as var:\n",
    "    sm_vel = dill.load(var)\n",
    "\n",
    "with open('smooth_acc_v8.pkl', 'rb') as var:\n",
    "    sm_acc = dill.load(var)\n",
    "    \n",
    "with open('smooth_times_v8.pkl', 'rb') as var:\n",
    "    d_times = dill.load(var)\n",
    "    \n",
    "with open('raw_dictionaries_v9.pkl', 'rb') as var:\n",
    "    all_imported = dill.load(var)"
   ]
  },
  {
   "cell_type": "markdown",
   "metadata": {},
   "source": [
    "### Trial metadata"
   ]
  },
  {
   "cell_type": "code",
   "execution_count": 4,
   "metadata": {},
   "outputs": [],
   "source": [
    "#build gap sizes, snake number, trial number lists\n",
    "gs_svl = []\n",
    "sn_id = []\n",
    "trial_ns = []\n",
    "herz = []\n",
    "    \n",
    "for i in np.arange(len(all_imported)):\n",
    "    \n",
    "    d = all_imported[i]\n",
    "    gs_svl.append(d['gs_%'])\n",
    "    sn_id.append(d['ID'])\n",
    "    trial_ns.append(d['tn'])\n",
    "    herz.append(d['fr'])"
   ]
  },
  {
   "cell_type": "markdown",
   "metadata": {},
   "source": [
    "# Generate landing velocities\n",
    "## Linear fit to the last few frames in the trial. \n",
    "### Step 1: determine how many frames to use by looking at residuals"
   ]
  },
  {
   "cell_type": "markdown",
   "metadata": {},
   "source": [
    "### Review residuals and velocities for all trials"
   ]
  },
  {
   "cell_type": "code",
   "execution_count": 5,
   "metadata": {},
   "outputs": [
    {
     "data": {
      "text/plain": [
       "<matplotlib.legend.Legend at 0x7f98d72b6fd0>"
      ]
     },
     "execution_count": 5,
     "metadata": {},
     "output_type": "execute_result"
    }
   ],
   "source": [
    "fig,ax=plt.subplots(2,3)\n",
    "dims = ['X','Y','Z']\n",
    "\n",
    "for n in np.arange(len(sm_pos)):\n",
    "    test_snake = sm_pos[n][:,0,:]\n",
    "    fr = herz[n]\n",
    "    t_vals = [each/fr for each in np.arange(np.shape(test_snake)[0])]\n",
    "    #     vals_try = [3,4,5,6,7,8,9,10,20,30] I tried these first, and then refined to the next set (vals_try1)\n",
    "    vals_try1= [9,10,11,12,13,14,15,16,17,18]\n",
    "    \n",
    "    for d in [0,1,2]:\n",
    "        res_snake = test_snake[:,d]  \n",
    "    \n",
    "        for i in vals_try1:\n",
    "            v_line, residuals, rank, singular_values, rcond = np.polyfit(t_vals[-i:],res_snake[-i:],1,full=True)\n",
    "            vel_pts = [v_line[1]+v_line[0]*each for each in t_vals]\n",
    "\n",
    "            if n==0:\n",
    "                thing = str(i)\n",
    "            else:\n",
    "                thing = '_no legend_'\n",
    "            ax[0,d].scatter(n,residuals[0]/1000.0,label=thing,s=5)\n",
    "            ax[1,d].scatter(n,v_line[0]/1000.0,s=5)\n",
    "            ax[1,d].set_xlabel(dims[d])\n",
    "\n",
    "ax[0,0].set_ylabel('residual, m')\n",
    "ax[1,0].set_ylabel('velocity, m/s')\n",
    "handles, labels = ax[0,0].get_legend_handles_labels()\n",
    "fig.legend(handles, labels, loc=(0.25,0.8888),ncol=len(vals_try1))\n",
    "\n",
    "#based on this plot, using last 0.07 of a second for the landing velocity"
   ]
  },
  {
   "cell_type": "markdown",
   "metadata": {},
   "source": [
    "### Based on above, using 0.07 seconds as \"landing velocity window\"\n",
    "### Step 2) generate the landing velocity  list"
   ]
  },
  {
   "cell_type": "code",
   "execution_count": 6,
   "metadata": {},
   "outputs": [],
   "source": [
    "land_vs1 = []\n",
    "\n",
    "for n in np.arange(len(sm_pos)):\n",
    "    test_snake = sm_pos[n][:,0,:]\n",
    "    fr = herz[n]\n",
    "    t_vals = [each/fr for each in np.arange(np.shape(test_snake)[0])]\n",
    "    i = int(fr*0.07)\n",
    "    vel_vals = []\n",
    "    \n",
    "    for d in [0,1,2]: #linear fit to each dimension for the final 0.07s\n",
    "        res_snake = test_snake[:,d] \n",
    "        v_line, residuals, rank, singular_values, rcond = np.polyfit(t_vals[-i:],res_snake[-i:],1,full=True)\n",
    "        vel_pts = [v_line[1]+v_line[0]*each for each in t_vals]\n",
    "        vel_vals.append(v_line[0]/1000.0) #convert to m/s from mm/s\n",
    "        \n",
    "    landv = np.linalg.norm(vel_vals)\n",
    "    land_vs1.append(landv)"
   ]
  },
  {
   "cell_type": "markdown",
   "metadata": {},
   "source": [
    "# Generate resultant velocity\n",
    "\n",
    "Takes the X, Y, and Z values for each marker and each frame and creates the resultant velocity value. \n",
    "Creates a list where each entry is the array of resultant velocity values for a given trial\n",
    "\n",
    "Then, examine data for outliers. \n",
    "\n",
    "Then, remove outliers and save new data"
   ]
  },
  {
   "cell_type": "code",
   "execution_count": 7,
   "metadata": {},
   "outputs": [],
   "source": [
    "#resultant velocity (head marker) for each trial\n",
    "sm_vres = []\n",
    "for each in sm_vel:\n",
    "    each = each/1000 #change mm to m\n",
    "    resultant = np.linalg.norm(each,axis=2) #resultant velocities for each frame and marker   \n",
    "    sm_vres.append(resultant[:,0]) #save the head marker"
   ]
  },
  {
   "cell_type": "code",
   "execution_count": 8,
   "metadata": {},
   "outputs": [
    {
     "data": {
      "text/plain": [
       "Text(0.5, 0.98, 'all head velocity data (n= 182), smoothed')"
      ]
     },
     "execution_count": 8,
     "metadata": {},
     "output_type": "execute_result"
    }
   ],
   "source": [
    "#plot resultant velocity graphs\n",
    "col = 13\n",
    "row = 14\n",
    "\n",
    "fig, ax = plt.subplots(col,row,sharey=True)\n",
    "\n",
    "for i in np.arange(col):\n",
    "    for t in np.arange(row):\n",
    "        n = i+col*t\n",
    "        #print(n)\n",
    "        ax[i,t].set_title(str(all_imported[n]['tn']),size=10, y=0.5)\n",
    "        ax[i,t].plot(sm_vres[n])\n",
    "        ax[i,t].axis('off')\n",
    "        \n",
    "fig.suptitle('all head velocity data (n= '+str(len(sm_vres))+'), smoothed')"
   ]
  },
  {
   "cell_type": "markdown",
   "metadata": {},
   "source": [
    "# Generate \"moving\" velocity\n",
    "\n",
    "Average resultant velocity for the frames in which the snake is moving (i.e. res_V is >threshold)\n"
   ]
  },
  {
   "cell_type": "markdown",
   "metadata": {},
   "source": [
    "## Determine non-moving threshold\n",
    "### Compare trials where snake has significant non-moving period. \n",
    "#### 74 - not moving until frame 14920\n",
    "#### 243 - not moving util frame 3300\n",
    "#### 54 - moving whole time"
   ]
  },
  {
   "cell_type": "code",
   "execution_count": 9,
   "metadata": {},
   "outputs": [],
   "source": [
    "x0 = trial_ns.index(74)\n",
    "x1 = trial_ns.index(243)\n",
    "x2 = trial_ns.index(54)\n",
    "\n",
    "frames0 = list(all_imported[x0]['fn'])\n",
    "frames1 = list(all_imported[x1]['fn'])\n",
    "frames2 = list(all_imported[x2]['fn'])\n",
    "\n",
    "ind0 = frames0.index(14920)\n",
    "ind1 = frames1.index(3300)"
   ]
  },
  {
   "cell_type": "code",
   "execution_count": 10,
   "metadata": {},
   "outputs": [],
   "source": [
    "notmoving = sm_vel[x0][:ind0,:,:]\n",
    "notmoving1 = sm_vel[x1][:ind1,:,:]\n",
    "moving = sm_vel[x2]"
   ]
  },
  {
   "cell_type": "code",
   "execution_count": 11,
   "metadata": {},
   "outputs": [],
   "source": [
    "res = np.linalg.norm(notmoving,axis=2)\n",
    "res1 = np.linalg.norm(notmoving1,axis=2)\n",
    "res2 = np.linalg.norm(moving,axis=2)"
   ]
  },
  {
   "cell_type": "code",
   "execution_count": 12,
   "metadata": {},
   "outputs": [
    {
     "data": {
      "text/plain": [
       "Text(0.5, 0, 'Frame number')"
      ]
     },
     "execution_count": 12,
     "metadata": {},
     "output_type": "execute_result"
    }
   ],
   "source": [
    "import matplotlib as mpl\n",
    "colormaps = [plt.get_cmap('Blues'),plt.get_cmap('Greens'),plt.get_cmap('PuRd')]\n",
    "plots = [res,res1,res2]\n",
    "labels = ['Not Moving','Not Moving','Moving']\n",
    "fig,ax = plt.subplots()\n",
    "\n",
    "for i in [0,1,2]:\n",
    "    colormap = colormaps[i]\n",
    "    colorlist = [colormap(k) for k in np.linspace(0, 1, 10)]\n",
    "    custom_cycler = mpl.cycler(color = colorlist)\n",
    "    ax.set_prop_cycle(custom_cycler)\n",
    "    ax.plot(plots[i],label=labels[i])\n",
    "\n",
    "ax.set_ylabel('Velocity (mm/s)')\n",
    "ax.set_xlabel('Frame number')"
   ]
  },
  {
   "cell_type": "markdown",
   "metadata": {},
   "source": [
    "### Based on above, threshold = 0.025 m/s"
   ]
  },
  {
   "cell_type": "code",
   "execution_count": 13,
   "metadata": {},
   "outputs": [],
   "source": [
    "thresh = 0.025\n",
    "avg_rxs = []\n",
    "\n",
    "for trl in np.arange(len(all_imported)):\n",
    "    resv = sm_vres[trl]\n",
    "    A = len(resv)\n",
    "\n",
    "    #get the average resultant velocity over frames where the snake is actually moving forward.\n",
    "    vx = sm_vel[trl][:,0,0]/1000.0 #change mm/s to m/s\n",
    "    move_x = [resv[t] for t in np.arange(A) if vx[t]>thresh] #select frames where horizontal/forward component is greater than threshold.\n",
    "    avg_rx = np.nanmean(move_x) #average resultant head speed across all such frames.\n",
    "    \n",
    "    avg_rxs.append(avg_rx)"
   ]
  },
  {
   "cell_type": "code",
   "execution_count": 14,
   "metadata": {},
   "outputs": [],
   "source": [
    "#max resultant head velocity for all trials\n",
    "max_res = []\n",
    "\n",
    "for i in np.arange(len(sm_vres)):\n",
    "    res = sm_vres[i]    \n",
    "    max_res.append(np.nanmax(res)) #maximum resultant head velocity"
   ]
  },
  {
   "cell_type": "markdown",
   "metadata": {},
   "source": [
    "# Create dataframe"
   ]
  },
  {
   "cell_type": "code",
   "execution_count": 15,
   "metadata": {},
   "outputs": [],
   "source": [
    "vdf = pd.DataFrame(list(zip(trial_ns,gs_svl,sn_id)),columns = ['tn','gsr','ID'])"
   ]
  },
  {
   "cell_type": "code",
   "execution_count": 16,
   "metadata": {},
   "outputs": [],
   "source": [
    "cwd = os.getcwd()\n",
    "bpd = pd.read_csv(cwd+'/R files/Summary Datasets/bdata.csv',index_col=None)"
   ]
  },
  {
   "cell_type": "code",
   "execution_count": 17,
   "metadata": {},
   "outputs": [],
   "source": [
    "#add svls and behaviors\n",
    "svls = [all_imported[ind]['svl']/100 for ind in np.arange(0,len(all_imported))]\n",
    "vdf['svl'] = svls\n",
    "vdf['beh'] = bpd['beh']"
   ]
  },
  {
   "cell_type": "markdown",
   "metadata": {},
   "source": [
    "### Add speed values"
   ]
  },
  {
   "cell_type": "code",
   "execution_count": 18,
   "metadata": {},
   "outputs": [],
   "source": [
    "vdf['mhv'] = max_res #max head speed\n",
    "vdf['landv'] = land_vs1 #landing speed\n",
    "vdf['axv'] = avg_rxs #average forward moving speed"
   ]
  },
  {
   "cell_type": "markdown",
   "metadata": {},
   "source": [
    "## Relative Velocities"
   ]
  },
  {
   "cell_type": "code",
   "execution_count": 19,
   "metadata": {},
   "outputs": [],
   "source": [
    "#scale all velocities to SVL/sec speeds. \n",
    "A,B = np.shape(vdf)\n",
    "scale_lv = []\n",
    "scale_mv = []\n",
    "scale_av = []\n",
    "for i in np.arange(A):\n",
    "    trial = vdf['tn'][i]\n",
    "    ind = trial_ns.index(trial)\n",
    "    svl = svls[i]\n",
    "    lv = vdf['landv'][i]\n",
    "    mv = vdf['mhv'][i]\n",
    "    av = vdf['axv'][i]\n",
    "    \n",
    "    scale_lv.append(lv/svl) #change m/s to svls/sec\n",
    "    scale_mv.append(mv/svl)\n",
    "    scale_av.append(av/svl)"
   ]
  },
  {
   "cell_type": "code",
   "execution_count": 20,
   "metadata": {},
   "outputs": [],
   "source": [
    "vdf['slv'] = scale_lv #scaled landing velocity\n",
    "vdf['smv'] = scale_mv #scaled max velocity\n",
    "vdf['sav'] = scale_av #scaled average vleocity (when moving forward)"
   ]
  },
  {
   "cell_type": "code",
   "execution_count": 21,
   "metadata": {},
   "outputs": [],
   "source": [
    "#save as csv for analysis in R\n",
    "vdf.to_csv(cwd+'/R files/Summary Datasets/vdata.csv')"
   ]
  },
  {
   "cell_type": "markdown",
   "metadata": {},
   "source": [
    "# Statistical Analyses"
   ]
  },
  {
   "cell_type": "code",
   "execution_count": 22,
   "metadata": {},
   "outputs": [],
   "source": [
    "import statsmodels.api as sm\n",
    "import statsmodels.formula.api as smf\n",
    "\n",
    "from scipy.optimize import curve_fit\n",
    "from scipy.stats.distributions import  t"
   ]
  },
  {
   "cell_type": "markdown",
   "metadata": {},
   "source": [
    "## What is the relationship between gap size and velocity metrics?"
   ]
  },
  {
   "cell_type": "code",
   "execution_count": 23,
   "metadata": {},
   "outputs": [],
   "source": [
    "#all together\n",
    "import seaborn as sns\n",
    "IDs = [95,88,90,89,94,85]\n",
    "shapes = ['<','v','s','^','>','o']\n",
    "\n",
    "collist = sns.color_palette(\"terrain\", 6)\n",
    "maxV = np.array(vdf['smv'])\n",
    "avgV = np.array(vdf['sav'])\n",
    "landV = np.array(vdf['slv'])\n",
    "gsr = np.array(vdf['gsr'])\n",
    "sneks = np.array(vdf['ID'])\n",
    "behs = np.array(vdf['beh'])\n",
    "\n",
    "fig, ax = plt.subplots(3,sharex=True,sharey=True)\n",
    "\n",
    "ax[0].set_ylabel(\"Average (SVL/s)\")\n",
    "ax[1].set_ylabel(\"Max (SVL/s)\")\n",
    "ax[2].set_ylabel(\"Landing (SVL/s)\")\n",
    "ax[2].set_xlabel(\"Gap size (%SVL)\")\n",
    "\n",
    "\n",
    "for w in np.arange(len(IDs)):\n",
    "    X = gsr[sneks==IDs[w]]\n",
    "    Y2 = landV[sneks==IDs[w]]\n",
    "    Y0 = avgV[sneks==IDs[w]]\n",
    "    Y1 = maxV[sneks==IDs[w]]\n",
    "    B = behs[sneks==IDs[w]]\n",
    "\n",
    "    color =  np.reshape(np.array(collist[w]),(1,3))\n",
    "\n",
    "    for i in np.arange(len(X)):\n",
    "        if B[i] == 0:\n",
    "            ec = np.reshape(np.array(color),(1,3))\n",
    "            fc = 'None'\n",
    "            size = 50\n",
    "        else:\n",
    "            fc = np.reshape(np.array(color),(1,3))\n",
    "            ec=None\n",
    "            size = 50\n",
    "\n",
    "\n",
    "        ax[2].scatter(X[i], Y2[i], marker = shapes[w], label=str(IDs[w]), s=50,edgecolor=ec,facecolor=fc)\n",
    "        ax[1].scatter(X[i], Y1[i], marker = shapes[w], label=str(IDs[w]), s=50,edgecolor=ec,facecolor=fc)\n",
    "        ax[0].scatter(X[i], Y0[i], marker = shapes[w], label=str(IDs[w]), s=50,edgecolor=ec,facecolor=fc)"
   ]
  },
  {
   "cell_type": "code",
   "execution_count": 24,
   "metadata": {},
   "outputs": [
    {
     "data": {
      "text/plain": [
       "<matplotlib.collections.PathCollection at 0x7f98cbf0dcd0>"
      ]
     },
     "execution_count": 24,
     "metadata": {},
     "output_type": "execute_result"
    }
   ],
   "source": [
    "# Graph comparing absolute and relative values\n",
    "fig,ax = plt.subplots(2,3, sharex=True,sharey=True)\n",
    "fig.suptitle('Resultant head velocity (m/s)')\n",
    "\n",
    "ax[0,0].set_title('Max')\n",
    "ax[0,1].set_title('Average, moving forward (x)')\n",
    "ax[0,2].set_title('Landing Velocity')\n",
    "\n",
    "ax[0,0].set_ylabel('Absolute (m/s)')\n",
    "ax[1,0].set_ylabel('Relative (svl/s)')\n",
    "\n",
    "ax[1,0].set_xlabel('Gap size (%SVL)')\n",
    "ax[1,1].set_xlabel('Gap size (%SVL)')\n",
    "ax[1,2].set_xlabel('Gap size (%SVL)')\n",
    "\n",
    "color_labels = vdf['ID'].unique()\n",
    "Norm = mp.colors.Normalize(vmin=0,vmax=5)\n",
    "rgbs = [new_cmap(Norm(i)) for i in np.arange(6)]\n",
    "color_map = dict(zip(color_labels, rgbs))\n",
    "\n",
    "ax[0,0].scatter(vdf['gsr'],vdf['mhv'],c=vdf['ID'].map(color_map),s=10)\n",
    "ax[1,0].scatter(vdf['gsr'],vdf['smv'],c=vdf['ID'].map(color_map),s=10)\n",
    "\n",
    "\n",
    "ax[0,1].scatter(vdf['gsr'],vdf['axv'],c=vdf['ID'].map(color_map),s=10)\n",
    "ax[1,1].scatter(vdf['gsr'],vdf['sav'],c=vdf['ID'].map(color_map),s=10)\n",
    "\n",
    "ax[0,2].scatter(vdf['gsr'],vdf['landv'],c=vdf['ID'].map(color_map),s=10)\n",
    "ax[1,2].scatter(vdf['gsr'],vdf['slv'],c=vdf['ID'].map(color_map),s=10)\n"
   ]
  },
  {
   "cell_type": "markdown",
   "metadata": {},
   "source": [
    "### Create initial parameter estimates for sigmoid fits"
   ]
  },
  {
   "cell_type": "code",
   "execution_count": 25,
   "metadata": {},
   "outputs": [],
   "source": [
    "def sigmoid(x, L, x0, k, b):\n",
    "    y = L / (1 + np.exp(-k*(x-x0)))+b\n",
    "    return y\n",
    "def residuals(x,y,p):\n",
    "    L, x0, k, b = p\n",
    "    return y - sigmoid(x,L,x0,k,b)"
   ]
  },
  {
   "cell_type": "code",
   "execution_count": 26,
   "metadata": {},
   "outputs": [
    {
     "name": "stdout",
     "output_type": "stream",
     "text": [
      "fn: y = L / (1 + e^(-k*(x-x0)))+b\n",
      "    L = 1.8255431140235705 [1.657944009009561,  1.99314221903758]\n",
      "    \n",
      "    x0 = 57.32151206091584 [55.99605497304828,  58.646969148783406]\n",
      "    \n",
      "    k = 0.24754571796723862 [0.1721004999243154,  0.3229909360101618]\n",
      "    \n",
      "    b = 0.29195448908716465 [0.1686566784805868,  0.4152522996937425]\n",
      "    \n",
      "0.25323091766050404\n"
     ]
    }
   ],
   "source": [
    "xdata = vdf['gsr'] #relative gap size\n",
    "ydata = vdf['mhv'] #max head velocity\n",
    "\n",
    "plt.figure()\n",
    "plt.scatter(xdata,ydata)\n",
    "\n",
    "p0 = [max(ydata), np.median(xdata),1,min(ydata)] # this is an mandatory initial guess\n",
    "\n",
    "pars, pcov = curve_fit(sigmoid, xdata, ydata, p0, method='dogbox')\n",
    "alpha = 0.05 # 95% confidence interval = 100*(1-alpha)\n",
    "\n",
    "n = len(ydata)    # number of data points\n",
    "pn = len(pars) # number of parameters\n",
    "\n",
    "dof = max(0, n - pn) # number of degrees of freedom\n",
    "\n",
    "# student-t value for the dof and confidence level\n",
    "tval = t.ppf(1.0-alpha/2., dof) \n",
    "\n",
    "par_names = ['L','x0','k','b']\n",
    "print('fn: y = L / (1 + e^(-k*(x-x0)))+b')\n",
    "for i, p, var in zip(range(n), pars, np.diag(pcov)):\n",
    "    sigma = var**0.5\n",
    "    low = p - sigma*tval\n",
    "    high = p+sigma*tval\n",
    "    print( '''\\\n",
    "    {n} = {est} [{low},  {high}]\n",
    "    '''.format(n=par_names[i],est=p,low=low,high=high))\n",
    "\n",
    "xp = np.linspace(20, 120, 500)\n",
    "pxp = sigmoid(xp,pars[0],pars[1],pars[2],pars[3])\n",
    "\n",
    "# Plot the results\n",
    "plt.plot(xp, pxp, '-')\n",
    "plt.xlabel('Gap Size')\n",
    "plt.ylabel('Max head velocity') \n",
    "plt.grid(True)\n",
    "\n",
    "print(np.mean(np.abs(residuals(xdata,ydata,pars))))"
   ]
  },
  {
   "cell_type": "code",
   "execution_count": 27,
   "metadata": {},
   "outputs": [
    {
     "name": "stdout",
     "output_type": "stream",
     "text": [
      "fn: y = L / (1 + e^(-k*(x-x0)))+b\n",
      "    L = 1.8497368062508106 [1.669320003190718,  2.0301536093109034]\n",
      "    \n",
      "    x0 = 57.50273394645001 [56.04680303256113,  58.958664860338885]\n",
      "    \n",
      "    k = 0.21699714221264196 [0.1525668120627689,  0.28142747236251503]\n",
      "    \n",
      "    b = 0.18783532461132715 [0.05533255083037425,  0.32033809839228006]\n",
      "    \n",
      "0.2479515590433792\n"
     ]
    }
   ],
   "source": [
    "xdata = vdf['gsr'] #relative gap size\n",
    "ydata = vdf['landv'] #landing speed\n",
    "\n",
    "plt.figure()\n",
    "plt.scatter(xdata,ydata)\n",
    "\n",
    "p0 = [max(ydata), np.median(xdata),1,min(ydata)] # this is an mandatory initial guess\n",
    "\n",
    "pars, pcov = curve_fit(sigmoid, xdata, ydata, p0, method='dogbox')\n",
    "alpha = 0.05 # 95% confidence interval = 100*(1-alpha)\n",
    "\n",
    "n = len(ydata)    # number of data points\n",
    "pn = len(pars) # number of parameters\n",
    "\n",
    "dof = max(0, n - pn) # number of degrees of freedom\n",
    "\n",
    "# student-t value for the dof and confidence level\n",
    "tval = t.ppf(1.0-alpha/2., dof) \n",
    "\n",
    "par_names = ['L','x0','k','b']\n",
    "print('fn: y = L / (1 + e^(-k*(x-x0)))+b')\n",
    "for i, p, var in zip(range(n), pars, np.diag(pcov)):\n",
    "    sigma = var**0.5\n",
    "    low = p - sigma*tval\n",
    "    high = p+sigma*tval\n",
    "    print( '''\\\n",
    "    {n} = {est} [{low},  {high}]\n",
    "    '''.format(n=par_names[i],est=p,low=low,high=high))\n",
    "\n",
    "xp = np.linspace(20, 120, 500)\n",
    "pxp = sigmoid(xp,pars[0],pars[1],pars[2],pars[3])\n",
    "\n",
    "# Plot the results\n",
    "plt.plot(xp, pxp, '-')\n",
    "plt.xlabel('Gap Size')\n",
    "plt.ylabel('Max head velocity') \n",
    "plt.grid(True)\n",
    "\n",
    "print(np.mean(np.abs(residuals(xdata,ydata,pars))))"
   ]
  },
  {
   "cell_type": "code",
   "execution_count": null,
   "metadata": {},
   "outputs": [],
   "source": []
  }
 ],
 "metadata": {
  "kernelspec": {
   "display_name": "Anaconda",
   "language": "python",
   "name": "anaconda"
  },
  "language_info": {
   "codemirror_mode": {
    "name": "ipython",
    "version": 3
   },
   "file_extension": ".py",
   "mimetype": "text/x-python",
   "name": "python",
   "nbconvert_exporter": "python",
   "pygments_lexer": "ipython3",
   "version": "3.7.4"
  }
 },
 "nbformat": 4,
 "nbformat_minor": 2
}
