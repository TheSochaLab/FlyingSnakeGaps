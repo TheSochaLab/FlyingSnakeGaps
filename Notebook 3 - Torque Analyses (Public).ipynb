{
 "cells": [
  {
   "cell_type": "code",
   "execution_count": 1,
   "metadata": {
    "id": "KnoRWRAMElfX"
   },
   "outputs": [],
   "source": [
    "import numpy as np\n",
    "import pandas as pd\n",
    "import os\n",
    "\n",
    "%matplotlib qt\n",
    "import matplotlib.pyplot as plt\n",
    "import matplotlib as mp\n",
    "\n",
    "from m_gncspline import global_natural_spline"
   ]
  },
  {
   "cell_type": "code",
   "execution_count": 2,
   "metadata": {
    "id": "HeiTUarEElff"
   },
   "outputs": [],
   "source": [
    "import dill\n",
    "\n",
    "with open('smooth_pos_v8.pkl', 'rb') as var:\n",
    "    sm_pos = dill.load(var)\n",
    "    \n",
    "with open('smooth_vel_v8.pkl', 'rb') as var:\n",
    "    sm_vel = dill.load(var)\n",
    "\n",
    "with open('smooth_acc_v8.pkl', 'rb') as var:\n",
    "    sm_acc = dill.load(var)\n",
    "    \n",
    "with open('smooth_times_v8.pkl', 'rb') as var:\n",
    "    d_times = dill.load(var)\n",
    "    \n",
    "with open('raw_dictionaries_v9.pkl', 'rb') as var:\n",
    "    all_imported = dill.load(var)"
   ]
  },
  {
   "cell_type": "markdown",
   "metadata": {
    "id": "HAXUdn5bElfg"
   },
   "source": [
    "# Torque analysis process"
   ]
  },
  {
   "cell_type": "markdown",
   "metadata": {
    "id": "-kAX-WnMElfh"
   },
   "source": [
    "## Step 1: Load processed position data and corrected marker spacings lists.\n",
    "\n",
    "Spline fitting requires that there be no missing markers in the frame the spline is being fit to. Trials with any markers missing from the whole trial were updates in Notebook 1 - Data Processing. The resulting updated marker spacings (in cms) account for this. "
   ]
  },
  {
   "cell_type": "code",
   "execution_count": 3,
   "metadata": {
    "id": "xhYmLNf9Elfi"
   },
   "outputs": [],
   "source": [
    "marks_s = [all_imported[i]['cms'] for i in np.arange(len(all_imported))] #make a list of all marker spacings"
   ]
  },
  {
   "cell_type": "markdown",
   "metadata": {
    "id": "-FIEAacFElfk"
   },
   "source": [
    "## Step 2: Build lists for each trial of the relevant meta data\n",
    "\n",
    "To calculate torque, I need to know the frame to calculate at (i.e. the transition frame, or if there is no transition frame, the landing frame). I also need the snake's mass, length, and the size of the gap. "
   ]
  },
  {
   "cell_type": "code",
   "execution_count": 4,
   "metadata": {
    "id": "WlQjDgl3Elfm"
   },
   "outputs": [],
   "source": [
    "#build gap sizes, snake number, trial number, svl, and mass lists\n",
    "gs_m = []\n",
    "gs_svl = []\n",
    "sn_id = []\n",
    "trial_ns = []\n",
    "    \n",
    "mass = []\n",
    "size = []\n",
    "lands = []\n",
    "frame_lists = []\n",
    "\n",
    "for i in np.arange(len(all_imported)):\n",
    "    \n",
    "    d = all_imported[i]\n",
    "    gs_m.append(d['gs_m'])\n",
    "    gs_svl.append(d['gs_%'])\n",
    "    sn_id.append(d['ID'])\n",
    "    trial_ns.append(d['tn'])\n",
    "    size.append(d['svl']/100) #change cm to m\n",
    "\n",
    "    mass.append(d['mass']/1000) #change g to kg\n",
    "    lands.append(int(d['lf']))\n",
    "    frame_lists.append(d['fn'])"
   ]
  },
  {
   "cell_type": "markdown",
   "metadata": {
    "id": "mUjGeKFzElfn"
   },
   "source": [
    "# Step 3: Build transitions frames list\n",
    "\n",
    "I  now use the visually identified transition frame and the frame index to select the appropriate row index from the csv (the frame numbers, visually identified, do not match up with the row number in most trials as the data has been cropped to the ROI). "
   ]
  },
  {
   "cell_type": "code",
   "execution_count": 5,
   "metadata": {
    "id": "91xVuuHRElfp"
   },
   "outputs": [],
   "source": [
    "#build new transition frames list\n",
    "drops = []\n",
    "\n",
    "cwd = os.getcwd()\n",
    "meta_path = cwd+'/R files/Summary Datasets/reference_material.csv'\n",
    "metadata = pd.read_csv(meta_path, delimiter=\",\")\n",
    "\n",
    "for i in np.arange(len(sm_pos)):\n",
    "    trial = all_imported[i]['tn']\n",
    "    row = metadata[metadata.Trial==trial]\n",
    "\n",
    "    drop = pd.to_numeric(row.DP.values[0])\n",
    "    drops.append(drop)"
   ]
  },
  {
   "cell_type": "markdown",
   "metadata": {
    "id": "dRiGbDQHElfp"
   },
   "source": [
    "# Define the function\n",
    "\n",
    "See the documentation here: https://docs.google.com/document/d/1o0ay1PH9b0CNwD_9TEzWPKP6KrioOhOAEUtVL2UPqY4/edit?usp=sharing for a complete description of how this function works. "
   ]
  },
  {
   "cell_type": "code",
   "execution_count": 6,
   "metadata": {
    "id": "3SF6_n2YElfq"
   },
   "outputs": [],
   "source": [
    "def torque(snake,spaces,SVL,mass_total):\n",
    "    \"\"\" determine the torque on the snake in a given frame\n",
    "    \n",
    "    Parameters\n",
    "    ----------\n",
    "    snake: (m) array of showing a single frame of smoothed, gap-filled snake data from a given trial, mmarks x 3dimensions\n",
    "    spaces: spacing of markers on the snake, including distance from nosetip to first marker, in m\n",
    "    SVL: SVL in m\n",
    "    mass: snake's mass in kg\n",
    "    \n",
    "    Returns\n",
    "    -------\n",
    "    \"\"\"\n",
    "\n",
    "    nmark, dim = np.shape(snake)\n",
    "\n",
    "    ### Section 1: clean up the snake data\n",
    "    del_list = []\n",
    "    n_snake = np.copy(snake)\n",
    "    n_sp = np.array(spaces[1:]) #cut out the space from nosetip.\n",
    "\n",
    "    for t in np.arange(len(n_sp)+1):\n",
    "        mark = n_snake[t,0]\n",
    "        if np.isnan(mark): #make a list of markers to delete - delete ones with nans. This should never be the head!\n",
    "            del_list.append(t)\n",
    "\n",
    "    for l in reversed(del_list):\n",
    "        n_snake=np.delete(n_snake,l,0) #delete the rows in the snake array\n",
    "        if l==len(n_sp): #if the index corresponds to the last marker in the spacing array, just delete it\n",
    "            n_sp=np.delete(n_sp,l-1)\n",
    "            \n",
    "        else:\n",
    "            n_sp[l]=n_sp[l-1]+n_sp[l] #if the index corresponds to some other marker, get the appropriate spacing\n",
    "            n_sp=np.delete(n_sp,l-1) #and then delete.\n",
    "\n",
    "    ### Step 2: make the spline\n",
    "    out = global_natural_spline(n_snake,n_sp,1000) #fit a spline\n",
    "    r, dr, ddr, dddr, ts, ss, seg_lens, lengths_total, idx_pts = out    \n",
    "    r_m = r.copy()\n",
    "      \n",
    "    density_df = pd.read_csv(cwd+'/R files/Summary Datasets/snake_density.csv', index_col=0)\n",
    "    s_rho, body_rho = density_df.values.T\n",
    "    \n",
    "    density_body = np.interp(ts / SVL, s_rho, body_rho)\n",
    "    mass_body = mass_total * density_body / density_body.sum()\n",
    "    \n",
    "    # find where X > 0 (the body is in the gap; all position data is in a origin-centered coordinate system)\n",
    "    idx_gap = np.where(r[:, 0] > 0)[0]\n",
    "    r_gap = r_m[idx_gap]\n",
    "    \n",
    "    # distance along the body, reversed because head will have largest moment\n",
    "    nbody = len(r_gap)\n",
    "    weight = np.zeros((nbody, 3))\n",
    "    weight[:, 2] = -mass_body[idx_gap] * 9.81  # N\n",
    "    \n",
    "    torques = np.cross(r_gap, weight)  # Nm\n",
    "    torque_total = torques.sum(axis=0)\n",
    "    \n",
    "    return torque_total"
   ]
  },
  {
   "cell_type": "markdown",
   "metadata": {
    "id": "qhKZ_Qt_Elfr"
   },
   "source": [
    "# Step 4: Build behavior lists\n",
    "\n",
    "Making a list of the behaviors in all the trials that the torque code operates on. This allows me to 1) graph the results color-coded by behavior and 2) check that all the non-cantilever trials have drop frames defined. If there is a non-cantilever trial that doesn't have a drop frame, that means there is a mismatch between how I have visually detected behavior and how the behavior code has detected behavior, which needs to be fixed. "
   ]
  },
  {
   "cell_type": "code",
   "execution_count": 7,
   "metadata": {
    "id": "CpxhMru7Elfr"
   },
   "outputs": [],
   "source": [
    "#build behavior lists\n",
    "bpd = pd.read_csv(cwd+'/R files/Summary Datasets/bdata.csv')"
   ]
  },
  {
   "cell_type": "code",
   "execution_count": 8,
   "metadata": {
    "id": "Wu4b3aZ3Elft"
   },
   "outputs": [],
   "source": [
    "code = bpd['beh']"
   ]
  },
  {
   "cell_type": "markdown",
   "metadata": {
    "id": "AvBAkr4NElfv"
   },
   "source": [
    "# Step 5: Run the code on all trials\n",
    "\n",
    "First, gather relevant metadata for each trial (the trial number, snake ID, behavior code, spacing of markers, landing frame and drop frame, SVL, gap size, etc.) Then: \n",
    "\n",
    "## Section 1: Safety checks\n",
    "Looks for marker spacings lists that don't match the position data shape, no defined origin (needed to determine loop depth and therefore the behavior). \n",
    "\n",
    "## Section 2: Determine frame of interest\n",
    "Using the behavior, determine whether to use the landing frame (cantilevers) or the drop frame (all other behaviors) as the frame of interest at which to calculate torque. Also checks whether there is a mistmatch between visually and code defined behavior. \n",
    "\n",
    "## Section 3: Convert frame number to row number\n",
    "Use the frame index file and the frame number (visually detected) to translate either the drop frame number or the landing frame number (depending on behavior) into a row number. This row is the frame in which the torque will be calculated. \n",
    "\n",
    "## Section 4: Additional check\n",
    "Checks if the head is nan in the frame of interest. Torque cannot be calculated if we don't know where the head is. \n",
    "\n",
    "## Section 5: Calculate torques\n",
    "Use the torque function defined above to calculate the torque vector acting on the snake. X points from the origin to the target branch (unless no target marker exists, in which case it does so approximately), Z is vertical, Y is left/right. The code then saves a list of 1) these torque vectors, 2) the trial numbers that were usable (e.g. not including trials where the head is nan or no origin branch), 3) the normalized torque values (by body weight and length), 4) the gap sizes, 5) the snake IDs, 5) the index of the frame where torque was calculated and 6) the position data for the trials used. It also maintains a list of the excluded trials. Most of these values are useful for troubleshooting -- the main results of interest are the torque values (normalized and otherwise) and corresponding snake IDs and gap sizes. "
   ]
  },
  {
   "cell_type": "code",
   "execution_count": 9,
   "metadata": {
    "colab": {
     "base_uri": "https://localhost:8080/",
     "height": 235
    },
    "executionInfo": {
     "elapsed": 1415,
     "status": "error",
     "timestamp": 1611670941045,
     "user": {
      "displayName": "Michelle Graham",
      "photoUrl": "https://lh3.googleusercontent.com/a-/AOh14Ght-z2w4iHp3ev9e1yZJOd6SqD4iXtD4B_lzO9bbgOKw_-ygfMKaEeAOtP4ggxYfI-7V9-4rYSBK1dhZuEX8rVDKwvw-eYQxTLV3f2ZD_EI2l3g7vssfo2Uct22tb84c6eICTja5kdxrnRb7N6qiz9u25-yF1vFQQnmptZLjxRjPlwhxiHZjmnhFIWtZ0PA_R8nFHB5NbmLNscBEEtuZLy12sFsPE3Uq_3w314q_xw9p1HlChwD_hwtKahfe7Z8ayo-VylGRNnPtLE4YE7TkaprpX1MhXdGuXvSl5RJlJwT7p4n4ZHAbSk_kvm4Rk_kjqA7g_4Kpmunmg61NPq4UXef1gmDlB9-KTnc6lVg3e3Dlev_rMHt4HFxrlArllnajUKZf4hKi_aj3Ps64vr_-UMgasJGRKWOur3piutGz5jruYPt0nm8vSjYarKq4Du6aTDn9m1COwj9ooQzcYUVUcKwdTjnDanzkIXOY8z9ypD8ZpaBHL5ooE7FlyrIUGSwZIHNssJy79yCCgjngqz15ANivnF37vJQ15EIoiLvlgBlGnXhRz8MvMHO74CQ2HQgbBzqVi206CkLMe2sW05lfAPgCucvccOaThXx460NnoCC0_mDBDH_BidCUS2dR1Ej6uuoGuFDyMZJVDeN3J46IFKpO__WoUp4GZq3ruFwKBOFeC9yPAJiSH2UVqs5ZX2O3YKOZy6HOihmdo0qmKCYgD4AivBI7-chUjUpi5MSe_lBk8Idvt4863HuTyy-B2esXlFcqg=s64",
      "userId": "15789755655632922425"
     },
     "user_tz": 300
    },
    "id": "iH4BtAAaElfv",
    "outputId": "3405795e-4e1e-4ae6-c551-bfdab96078a6"
   },
   "outputs": [
    {
     "name": "stdout",
     "output_type": "stream",
     "text": [
      "289: Mismatch between DPI and BC\n",
      "283: Mismatch between DPI and BC\n",
      "282: Mismatch between DPI and BC\n",
      "281: Mismatch between DPI and BC\n",
      "277: Mismatch between DPI and BC\n",
      "276: Mismatch between DPI and BC\n",
      "275: Mismatch between DPI and BC\n",
      "94: Origin end not defined\n",
      "93: Origin end not defined\n",
      "85: Origin end not defined\n"
     ]
    }
   ],
   "source": [
    "trial = []\n",
    "torques = []\n",
    "t_normed = []\n",
    "t_indices = []\n",
    "gap_svl = []\n",
    "gap_m = []\n",
    "sneks = []\n",
    "t_pos = []\n",
    "excluded = []\n",
    "beh_c = []\n",
    "\n",
    "for i in reversed(np.arange(len(sm_pos))):\n",
    "    snake = sm_pos[i]/1000.0 #convert mm to m\n",
    "    A,B,C = np.shape(snake)\n",
    "    \n",
    "    spaces = np.array(marks_s[i])/100 #convert cm to m\n",
    "    mg = mass[i]\n",
    "    dpi = drops[i]\n",
    "    lfi = lands[i]\n",
    "    f_index = frame_lists[i]\n",
    "    beh_code = code[i]\n",
    "    tn = trial_ns[i]\n",
    "    gap_size = gs_svl[i] \n",
    "    svl = size[i]\n",
    "    ID = sn_id[i]\n",
    "    \n",
    "    oe = all_imported[i]['oe'] #checking the original record of the OE \n",
    "                            #to exclude trials where the origin end was not recorded correctly. \n",
    "       \n",
    "    ###Section 1: Safety Checks!\n",
    "    if not B==len(spaces):\n",
    "        print('Marker spacings list does not match position data shape')\n",
    "        break\n",
    "        \n",
    "    elif np.isnan(oe).any():\n",
    "        print(str(tn)+': Origin end not defined')\n",
    "        excluded.append(tn)\n",
    "        continue\n",
    "    \n",
    "    ## Section 2: Check behavior and define frame of interest\n",
    "    elif np.isnan(dpi):\n",
    "        if not beh_code == 0:\n",
    "            excluded.append(tn)\n",
    "            print(str(tn)+': Mismatch between DPI and BC')\n",
    "            continue\n",
    "        \n",
    "        dpi = lfi #if it's a cantilever, use the last frame (landing frame) to measure torque instead of DPI. \n",
    "    \n",
    "    ## Section 3: convert the frame number (saved in the dictionary) to an index using the frame index.\n",
    "    frame = np.where(f_index==dpi)[0]\n",
    "    frame = int(frame) #make sure it's an integer\n",
    "    snake = snake[frame,:,:]\n",
    "    \n",
    "    ##Section 4: identifying index of any missing markers in the frame where the spline is being fit.\n",
    "    if np.isnan(snake).any():\n",
    "        x = np.where(np.isnan(snake))[0][0]\n",
    "    else:\n",
    "        x = np.nan\n",
    "        \n",
    "    if x==0:\n",
    "        excluded.append(all_imported[i]['tn']) #can't calculate the torque effectively if the head marker is misisng.\n",
    "        print(str(tn)+': Head is NaN')\n",
    "    \n",
    "    ## Section 5: determine torque\n",
    "    else:       \n",
    "        tval = torque(snake,spaces,svl,mg)\n",
    "        torques.append(tval) #torques in X,Y,Z - newton meters.\n",
    "\n",
    "        normed = np.sqrt(tval[0]**2+tval[1]**2)/(9.8*mg*svl) #normalize by mass and length.\n",
    "        t_normed.append(normed)\n",
    "        \n",
    "        t_indices.append(frame)\n",
    "        gap_svl.append(gap_size)\n",
    "        sneks.append(ID)\n",
    "        t_pos.append(sm_pos[i])\n",
    "        trial.append(tn)\n",
    "        gap_m.append(gs_m[i])\n",
    "        beh_c.append(beh_code)"
   ]
  },
  {
   "cell_type": "code",
   "execution_count": 10,
   "metadata": {
    "colab": {
     "base_uri": "https://localhost:8080/",
     "height": 235
    },
    "executionInfo": {
     "elapsed": 1744,
     "status": "error",
     "timestamp": 1611670941387,
     "user": {
      "displayName": "Michelle Graham",
      "photoUrl": "https://lh3.googleusercontent.com/a-/AOh14Ght-z2w4iHp3ev9e1yZJOd6SqD4iXtD4B_lzO9bbgOKw_-ygfMKaEeAOtP4ggxYfI-7V9-4rYSBK1dhZuEX8rVDKwvw-eYQxTLV3f2ZD_EI2l3g7vssfo2Uct22tb84c6eICTja5kdxrnRb7N6qiz9u25-yF1vFQQnmptZLjxRjPlwhxiHZjmnhFIWtZ0PA_R8nFHB5NbmLNscBEEtuZLy12sFsPE3Uq_3w314q_xw9p1HlChwD_hwtKahfe7Z8ayo-VylGRNnPtLE4YE7TkaprpX1MhXdGuXvSl5RJlJwT7p4n4ZHAbSk_kvm4Rk_kjqA7g_4Kpmunmg61NPq4UXef1gmDlB9-KTnc6lVg3e3Dlev_rMHt4HFxrlArllnajUKZf4hKi_aj3Ps64vr_-UMgasJGRKWOur3piutGz5jruYPt0nm8vSjYarKq4Du6aTDn9m1COwj9ooQzcYUVUcKwdTjnDanzkIXOY8z9ypD8ZpaBHL5ooE7FlyrIUGSwZIHNssJy79yCCgjngqz15ANivnF37vJQ15EIoiLvlgBlGnXhRz8MvMHO74CQ2HQgbBzqVi206CkLMe2sW05lfAPgCucvccOaThXx460NnoCC0_mDBDH_BidCUS2dR1Ej6uuoGuFDyMZJVDeN3J46IFKpO__WoUp4GZq3ruFwKBOFeC9yPAJiSH2UVqs5ZX2O3YKOZy6HOihmdo0qmKCYgD4AivBI7-chUjUpi5MSe_lBk8Idvt4863HuTyy-B2esXlFcqg=s64",
      "userId": "15789755655632922425"
     },
     "user_tz": 300
    },
    "id": "Lo_ttCD0Elfw",
    "outputId": "359a61f2-74a0-4c82-92d8-6d9284bb2834"
   },
   "outputs": [
    {
     "data": {
      "text/html": [
       "<div>\n",
       "<style scoped>\n",
       "    .dataframe tbody tr th:only-of-type {\n",
       "        vertical-align: middle;\n",
       "    }\n",
       "\n",
       "    .dataframe tbody tr th {\n",
       "        vertical-align: top;\n",
       "    }\n",
       "\n",
       "    .dataframe thead th {\n",
       "        text-align: right;\n",
       "    }\n",
       "</style>\n",
       "<table border=\"1\" class=\"dataframe\">\n",
       "  <thead>\n",
       "    <tr style=\"text-align: right;\">\n",
       "      <th></th>\n",
       "      <th>Trial</th>\n",
       "      <th>Snake</th>\n",
       "      <th>Beh</th>\n",
       "      <th>gsm</th>\n",
       "      <th>gsr</th>\n",
       "      <th>gs_bin</th>\n",
       "      <th>TInd</th>\n",
       "      <th>TNorm</th>\n",
       "      <th>TPos</th>\n",
       "      <th>x_torq</th>\n",
       "      <th>y_torq</th>\n",
       "      <th>z_torq</th>\n",
       "    </tr>\n",
       "  </thead>\n",
       "  <tbody>\n",
       "    <tr>\n",
       "      <th>0</th>\n",
       "      <td>274</td>\n",
       "      <td>85.0</td>\n",
       "      <td>1</td>\n",
       "      <td>0.622154</td>\n",
       "      <td>85.814306</td>\n",
       "      <td>85</td>\n",
       "      <td>378</td>\n",
       "      <td>0.025966</td>\n",
       "      <td>[[[29.052959038533505, 58.66783431129612, -31....</td>\n",
       "      <td>-0.008356</td>\n",
       "      <td>0.004713</td>\n",
       "      <td>0.0</td>\n",
       "    </tr>\n",
       "    <tr>\n",
       "      <th>1</th>\n",
       "      <td>272</td>\n",
       "      <td>85.0</td>\n",
       "      <td>1</td>\n",
       "      <td>0.615736</td>\n",
       "      <td>84.929116</td>\n",
       "      <td>85</td>\n",
       "      <td>189</td>\n",
       "      <td>0.027637</td>\n",
       "      <td>[[[79.73080467778203, 3.1201594521259244, -8.5...</td>\n",
       "      <td>0.003974</td>\n",
       "      <td>0.009278</td>\n",
       "      <td>0.0</td>\n",
       "    </tr>\n",
       "    <tr>\n",
       "      <th>2</th>\n",
       "      <td>271</td>\n",
       "      <td>85.0</td>\n",
       "      <td>1</td>\n",
       "      <td>0.615816</td>\n",
       "      <td>84.940108</td>\n",
       "      <td>85</td>\n",
       "      <td>710</td>\n",
       "      <td>0.026917</td>\n",
       "      <td>[[[55.95856199581728, 29.005880728864014, -2.2...</td>\n",
       "      <td>-0.002528</td>\n",
       "      <td>0.009499</td>\n",
       "      <td>0.0</td>\n",
       "    </tr>\n",
       "    <tr>\n",
       "      <th>3</th>\n",
       "      <td>270</td>\n",
       "      <td>85.0</td>\n",
       "      <td>1</td>\n",
       "      <td>0.570038</td>\n",
       "      <td>78.625945</td>\n",
       "      <td>80</td>\n",
       "      <td>3126</td>\n",
       "      <td>0.011321</td>\n",
       "      <td>[[[22.40558021185845, -38.76367608095813, 10.2...</td>\n",
       "      <td>0.000317</td>\n",
       "      <td>0.004122</td>\n",
       "      <td>0.0</td>\n",
       "    </tr>\n",
       "    <tr>\n",
       "      <th>4</th>\n",
       "      <td>269</td>\n",
       "      <td>85.0</td>\n",
       "      <td>1</td>\n",
       "      <td>0.571563</td>\n",
       "      <td>78.836340</td>\n",
       "      <td>80</td>\n",
       "      <td>1414</td>\n",
       "      <td>0.036897</td>\n",
       "      <td>[[[21.053144734401204, 30.64708034742381, 44.2...</td>\n",
       "      <td>0.002947</td>\n",
       "      <td>0.013148</td>\n",
       "      <td>0.0</td>\n",
       "    </tr>\n",
       "  </tbody>\n",
       "</table>\n",
       "</div>"
      ],
      "text/plain": [
       "   Trial  Snake  Beh       gsm        gsr  gs_bin  TInd     TNorm  \\\n",
       "0    274   85.0    1  0.622154  85.814306      85   378  0.025966   \n",
       "1    272   85.0    1  0.615736  84.929116      85   189  0.027637   \n",
       "2    271   85.0    1  0.615816  84.940108      85   710  0.026917   \n",
       "3    270   85.0    1  0.570038  78.625945      80  3126  0.011321   \n",
       "4    269   85.0    1  0.571563  78.836340      80  1414  0.036897   \n",
       "\n",
       "                                                TPos    x_torq    y_torq  \\\n",
       "0  [[[29.052959038533505, 58.66783431129612, -31.... -0.008356  0.004713   \n",
       "1  [[[79.73080467778203, 3.1201594521259244, -8.5...  0.003974  0.009278   \n",
       "2  [[[55.95856199581728, 29.005880728864014, -2.2... -0.002528  0.009499   \n",
       "3  [[[22.40558021185845, -38.76367608095813, 10.2...  0.000317  0.004122   \n",
       "4  [[[21.053144734401204, 30.64708034742381, 44.2...  0.002947  0.013148   \n",
       "\n",
       "   z_torq  \n",
       "0     0.0  \n",
       "1     0.0  \n",
       "2     0.0  \n",
       "3     0.0  \n",
       "4     0.0  "
      ]
     },
     "execution_count": 10,
     "metadata": {},
     "output_type": "execute_result"
    }
   ],
   "source": [
    "gs_bin = [5 * round(i/5) for i in gap_svl]\n",
    "tdata = pd.DataFrame(list(zip(trial,sneks,beh_c,gap_m,gap_svl,gs_bin,t_indices,t_normed,t_pos)),\n",
    "                   columns =['trial', 'ID','Beh','gsm','gsr','gs_bin','TInd','TNorm','TPos'])\n",
    "\n",
    "tdata['x_torq'] =[each[0] for each in torques]\n",
    "tdata['y_torq'] =[each[1] for each in torques]\n",
    "tdata['z_torq'] =[each[2] for each in torques]\n",
    "\n",
    "tdata.head()"
   ]
  },
  {
   "cell_type": "code",
   "execution_count": 11,
   "metadata": {
    "executionInfo": {
     "elapsed": 1731,
     "status": "aborted",
     "timestamp": 1611670941377,
     "user": {
      "displayName": "Michelle Graham",
      "photoUrl": "https://lh3.googleusercontent.com/a-/AOh14Ght-z2w4iHp3ev9e1yZJOd6SqD4iXtD4B_lzO9bbgOKw_-ygfMKaEeAOtP4ggxYfI-7V9-4rYSBK1dhZuEX8rVDKwvw-eYQxTLV3f2ZD_EI2l3g7vssfo2Uct22tb84c6eICTja5kdxrnRb7N6qiz9u25-yF1vFQQnmptZLjxRjPlwhxiHZjmnhFIWtZ0PA_R8nFHB5NbmLNscBEEtuZLy12sFsPE3Uq_3w314q_xw9p1HlChwD_hwtKahfe7Z8ayo-VylGRNnPtLE4YE7TkaprpX1MhXdGuXvSl5RJlJwT7p4n4ZHAbSk_kvm4Rk_kjqA7g_4Kpmunmg61NPq4UXef1gmDlB9-KTnc6lVg3e3Dlev_rMHt4HFxrlArllnajUKZf4hKi_aj3Ps64vr_-UMgasJGRKWOur3piutGz5jruYPt0nm8vSjYarKq4Du6aTDn9m1COwj9ooQzcYUVUcKwdTjnDanzkIXOY8z9ypD8ZpaBHL5ooE7FlyrIUGSwZIHNssJy79yCCgjngqz15ANivnF37vJQ15EIoiLvlgBlGnXhRz8MvMHO74CQ2HQgbBzqVi206CkLMe2sW05lfAPgCucvccOaThXx460NnoCC0_mDBDH_BidCUS2dR1Ej6uuoGuFDyMZJVDeN3J46IFKpO__WoUp4GZq3ruFwKBOFeC9yPAJiSH2UVqs5ZX2O3YKOZy6HOihmdo0qmKCYgD4AivBI7-chUjUpi5MSe_lBk8Idvt4863HuTyy-B2esXlFcqg=s64",
      "userId": "15789755655632922425"
     },
     "user_tz": 300
    },
    "id": "Ral4m7o6Elfx"
   },
   "outputs": [],
   "source": [
    "A,B = np.shape(tdata)\n",
    "resultant = []\n",
    "for i in np.arange(A):\n",
    "    x = tdata['x_torq'][i]\n",
    "    y = tdata['y_torq'][i]\n",
    "    z = tdata['z_torq'][i]\n",
    "    \n",
    "    res = np.linalg.norm([x,y,z])\n",
    "    resultant.append(res)\n",
    "    \n",
    "tdata['res'] = resultant"
   ]
  },
  {
   "cell_type": "markdown",
   "metadata": {
    "id": "Ym8YW7vzElfx"
   },
   "source": [
    "## Determine head position at transition as percent of gap size"
   ]
  },
  {
   "cell_type": "code",
   "execution_count": 12,
   "metadata": {
    "colab": {
     "base_uri": "https://localhost:8080/",
     "height": 235
    },
    "executionInfo": {
     "elapsed": 981,
     "status": "error",
     "timestamp": 1611670968706,
     "user": {
      "displayName": "Michelle Graham",
      "photoUrl": "https://lh3.googleusercontent.com/a-/AOh14Ght-z2w4iHp3ev9e1yZJOd6SqD4iXtD4B_lzO9bbgOKw_-ygfMKaEeAOtP4ggxYfI-7V9-4rYSBK1dhZuEX8rVDKwvw-eYQxTLV3f2ZD_EI2l3g7vssfo2Uct22tb84c6eICTja5kdxrnRb7N6qiz9u25-yF1vFQQnmptZLjxRjPlwhxiHZjmnhFIWtZ0PA_R8nFHB5NbmLNscBEEtuZLy12sFsPE3Uq_3w314q_xw9p1HlChwD_hwtKahfe7Z8ayo-VylGRNnPtLE4YE7TkaprpX1MhXdGuXvSl5RJlJwT7p4n4ZHAbSk_kvm4Rk_kjqA7g_4Kpmunmg61NPq4UXef1gmDlB9-KTnc6lVg3e3Dlev_rMHt4HFxrlArllnajUKZf4hKi_aj3Ps64vr_-UMgasJGRKWOur3piutGz5jruYPt0nm8vSjYarKq4Du6aTDn9m1COwj9ooQzcYUVUcKwdTjnDanzkIXOY8z9ypD8ZpaBHL5ooE7FlyrIUGSwZIHNssJy79yCCgjngqz15ANivnF37vJQ15EIoiLvlgBlGnXhRz8MvMHO74CQ2HQgbBzqVi206CkLMe2sW05lfAPgCucvccOaThXx460NnoCC0_mDBDH_BidCUS2dR1Ej6uuoGuFDyMZJVDeN3J46IFKpO__WoUp4GZq3ruFwKBOFeC9yPAJiSH2UVqs5ZX2O3YKOZy6HOihmdo0qmKCYgD4AivBI7-chUjUpi5MSe_lBk8Idvt4863HuTyy-B2esXlFcqg=s64",
      "userId": "15789755655632922425"
     },
     "user_tz": 300
    },
    "id": "eIfeXTtsElfx",
    "outputId": "2a4e0465-90c8-42fa-dbb4-70028e30ab34"
   },
   "outputs": [],
   "source": [
    "hpt = [] #head position at transition as percent of gap size\n",
    "\n",
    "A,B = np.shape(tdata)\n",
    "for i in np.arange(A):\n",
    "    if tdata['Beh'][i]==0:\n",
    "        hpt.append(np.nan) #no transition frame for cantilevers\n",
    "    else:\n",
    "        gap = tdata['gsm'][i]\n",
    "        posits = tdata['TPos'][i]\n",
    "        posits = posits/1000.0 #mm to m\n",
    "        inds = tdata['TInd'][i]\n",
    "        head_p = np.linalg.norm(posits[inds,0,:])\n",
    "        as_percent = head_p/gap*100\n",
    "        hpt.append(as_percent)"
   ]
  },
  {
   "cell_type": "code",
   "execution_count": 13,
   "metadata": {
    "colab": {
     "base_uri": "https://localhost:8080/",
     "height": 165
    },
    "executionInfo": {
     "elapsed": 1521,
     "status": "error",
     "timestamp": 1611670969256,
     "user": {
      "displayName": "Michelle Graham",
      "photoUrl": "https://lh3.googleusercontent.com/a-/AOh14Ght-z2w4iHp3ev9e1yZJOd6SqD4iXtD4B_lzO9bbgOKw_-ygfMKaEeAOtP4ggxYfI-7V9-4rYSBK1dhZuEX8rVDKwvw-eYQxTLV3f2ZD_EI2l3g7vssfo2Uct22tb84c6eICTja5kdxrnRb7N6qiz9u25-yF1vFQQnmptZLjxRjPlwhxiHZjmnhFIWtZ0PA_R8nFHB5NbmLNscBEEtuZLy12sFsPE3Uq_3w314q_xw9p1HlChwD_hwtKahfe7Z8ayo-VylGRNnPtLE4YE7TkaprpX1MhXdGuXvSl5RJlJwT7p4n4ZHAbSk_kvm4Rk_kjqA7g_4Kpmunmg61NPq4UXef1gmDlB9-KTnc6lVg3e3Dlev_rMHt4HFxrlArllnajUKZf4hKi_aj3Ps64vr_-UMgasJGRKWOur3piutGz5jruYPt0nm8vSjYarKq4Du6aTDn9m1COwj9ooQzcYUVUcKwdTjnDanzkIXOY8z9ypD8ZpaBHL5ooE7FlyrIUGSwZIHNssJy79yCCgjngqz15ANivnF37vJQ15EIoiLvlgBlGnXhRz8MvMHO74CQ2HQgbBzqVi206CkLMe2sW05lfAPgCucvccOaThXx460NnoCC0_mDBDH_BidCUS2dR1Ej6uuoGuFDyMZJVDeN3J46IFKpO__WoUp4GZq3ruFwKBOFeC9yPAJiSH2UVqs5ZX2O3YKOZy6HOihmdo0qmKCYgD4AivBI7-chUjUpi5MSe_lBk8Idvt4863HuTyy-B2esXlFcqg=s64",
      "userId": "15789755655632922425"
     },
     "user_tz": 300
    },
    "id": "vCe8yZKCElfx",
    "outputId": "8c633421-3402-4ea4-ad24-1490e1d4ebed"
   },
   "outputs": [],
   "source": [
    "tdata['hpt']=hpt"
   ]
  },
  {
   "cell_type": "markdown",
   "metadata": {
    "id": "ma82doaBElfz"
   },
   "source": [
    "## Add extra parameters"
   ]
  },
  {
   "cell_type": "code",
   "execution_count": 14,
   "metadata": {
    "executionInfo": {
     "elapsed": 1722,
     "status": "aborted",
     "timestamp": 1611670941381,
     "user": {
      "displayName": "Michelle Graham",
      "photoUrl": "https://lh3.googleusercontent.com/a-/AOh14Ght-z2w4iHp3ev9e1yZJOd6SqD4iXtD4B_lzO9bbgOKw_-ygfMKaEeAOtP4ggxYfI-7V9-4rYSBK1dhZuEX8rVDKwvw-eYQxTLV3f2ZD_EI2l3g7vssfo2Uct22tb84c6eICTja5kdxrnRb7N6qiz9u25-yF1vFQQnmptZLjxRjPlwhxiHZjmnhFIWtZ0PA_R8nFHB5NbmLNscBEEtuZLy12sFsPE3Uq_3w314q_xw9p1HlChwD_hwtKahfe7Z8ayo-VylGRNnPtLE4YE7TkaprpX1MhXdGuXvSl5RJlJwT7p4n4ZHAbSk_kvm4Rk_kjqA7g_4Kpmunmg61NPq4UXef1gmDlB9-KTnc6lVg3e3Dlev_rMHt4HFxrlArllnajUKZf4hKi_aj3Ps64vr_-UMgasJGRKWOur3piutGz5jruYPt0nm8vSjYarKq4Du6aTDn9m1COwj9ooQzcYUVUcKwdTjnDanzkIXOY8z9ypD8ZpaBHL5ooE7FlyrIUGSwZIHNssJy79yCCgjngqz15ANivnF37vJQ15EIoiLvlgBlGnXhRz8MvMHO74CQ2HQgbBzqVi206CkLMe2sW05lfAPgCucvccOaThXx460NnoCC0_mDBDH_BidCUS2dR1Ej6uuoGuFDyMZJVDeN3J46IFKpO__WoUp4GZq3ruFwKBOFeC9yPAJiSH2UVqs5ZX2O3YKOZy6HOihmdo0qmKCYgD4AivBI7-chUjUpi5MSe_lBk8Idvt4863HuTyy-B2esXlFcqg=s64",
      "userId": "15789755655632922425"
     },
     "user_tz": 300
    },
    "id": "mVIgjE0fElfz"
   },
   "outputs": [],
   "source": [
    "A,B = np.shape(tdata)\n",
    "svls = []\n",
    "masses = []\n",
    "for i in np.arange(A):\n",
    "    trial = tdata['Trial'][i]\n",
    "    index = trial_ns.index(trial)\n",
    "    svl = all_imported[index]['svl']/100 #cm to m\n",
    "    mass = all_imported[index]['mass']/1000 #g to kg\n",
    "    svls.append(svl)\n",
    "    masses.append(mass)\n",
    "    \n",
    "tdata['svl'] = svls\n",
    "tdata['mass'] = masses"
   ]
  },
  {
   "cell_type": "code",
   "execution_count": 15,
   "metadata": {
    "executionInfo": {
     "elapsed": 1715,
     "status": "aborted",
     "timestamp": 1611670941382,
     "user": {
      "displayName": "Michelle Graham",
      "photoUrl": "https://lh3.googleusercontent.com/a-/AOh14Ght-z2w4iHp3ev9e1yZJOd6SqD4iXtD4B_lzO9bbgOKw_-ygfMKaEeAOtP4ggxYfI-7V9-4rYSBK1dhZuEX8rVDKwvw-eYQxTLV3f2ZD_EI2l3g7vssfo2Uct22tb84c6eICTja5kdxrnRb7N6qiz9u25-yF1vFQQnmptZLjxRjPlwhxiHZjmnhFIWtZ0PA_R8nFHB5NbmLNscBEEtuZLy12sFsPE3Uq_3w314q_xw9p1HlChwD_hwtKahfe7Z8ayo-VylGRNnPtLE4YE7TkaprpX1MhXdGuXvSl5RJlJwT7p4n4ZHAbSk_kvm4Rk_kjqA7g_4Kpmunmg61NPq4UXef1gmDlB9-KTnc6lVg3e3Dlev_rMHt4HFxrlArllnajUKZf4hKi_aj3Ps64vr_-UMgasJGRKWOur3piutGz5jruYPt0nm8vSjYarKq4Du6aTDn9m1COwj9ooQzcYUVUcKwdTjnDanzkIXOY8z9ypD8ZpaBHL5ooE7FlyrIUGSwZIHNssJy79yCCgjngqz15ANivnF37vJQ15EIoiLvlgBlGnXhRz8MvMHO74CQ2HQgbBzqVi206CkLMe2sW05lfAPgCucvccOaThXx460NnoCC0_mDBDH_BidCUS2dR1Ej6uuoGuFDyMZJVDeN3J46IFKpO__WoUp4GZq3ruFwKBOFeC9yPAJiSH2UVqs5ZX2O3YKOZy6HOihmdo0qmKCYgD4AivBI7-chUjUpi5MSe_lBk8Idvt4863HuTyy-B2esXlFcqg=s64",
      "userId": "15789755655632922425"
     },
     "user_tz": 300
    },
    "id": "3bHuNtrUElfz"
   },
   "outputs": [
    {
     "data": {
      "text/html": [
       "<div>\n",
       "<style scoped>\n",
       "    .dataframe tbody tr th:only-of-type {\n",
       "        vertical-align: middle;\n",
       "    }\n",
       "\n",
       "    .dataframe tbody tr th {\n",
       "        vertical-align: top;\n",
       "    }\n",
       "\n",
       "    .dataframe thead th {\n",
       "        text-align: right;\n",
       "    }\n",
       "</style>\n",
       "<table border=\"1\" class=\"dataframe\">\n",
       "  <thead>\n",
       "    <tr style=\"text-align: right;\">\n",
       "      <th></th>\n",
       "      <th>Trial</th>\n",
       "      <th>Snake</th>\n",
       "      <th>Beh</th>\n",
       "      <th>gsm</th>\n",
       "      <th>gsr</th>\n",
       "      <th>gs_bin</th>\n",
       "      <th>TInd</th>\n",
       "      <th>TNorm</th>\n",
       "      <th>TPos</th>\n",
       "      <th>x_torq</th>\n",
       "      <th>y_torq</th>\n",
       "      <th>z_torq</th>\n",
       "      <th>res</th>\n",
       "      <th>hpt</th>\n",
       "      <th>svl</th>\n",
       "      <th>mass</th>\n",
       "    </tr>\n",
       "  </thead>\n",
       "  <tbody>\n",
       "    <tr>\n",
       "      <th>0</th>\n",
       "      <td>274</td>\n",
       "      <td>85.0</td>\n",
       "      <td>1</td>\n",
       "      <td>0.622154</td>\n",
       "      <td>85.814306</td>\n",
       "      <td>85</td>\n",
       "      <td>378</td>\n",
       "      <td>0.025966</td>\n",
       "      <td>[[[29.052959038533505, 58.66783431129612, -31....</td>\n",
       "      <td>-0.008356</td>\n",
       "      <td>0.004713</td>\n",
       "      <td>0.0</td>\n",
       "      <td>0.009593</td>\n",
       "      <td>15.673883</td>\n",
       "      <td>0.725</td>\n",
       "      <td>0.0520</td>\n",
       "    </tr>\n",
       "    <tr>\n",
       "      <th>1</th>\n",
       "      <td>272</td>\n",
       "      <td>85.0</td>\n",
       "      <td>1</td>\n",
       "      <td>0.615736</td>\n",
       "      <td>84.929116</td>\n",
       "      <td>85</td>\n",
       "      <td>189</td>\n",
       "      <td>0.027637</td>\n",
       "      <td>[[[79.73080467778203, 3.1201594521259244, -8.5...</td>\n",
       "      <td>0.003974</td>\n",
       "      <td>0.009278</td>\n",
       "      <td>0.0</td>\n",
       "      <td>0.010093</td>\n",
       "      <td>25.323470</td>\n",
       "      <td>0.725</td>\n",
       "      <td>0.0514</td>\n",
       "    </tr>\n",
       "    <tr>\n",
       "      <th>2</th>\n",
       "      <td>271</td>\n",
       "      <td>85.0</td>\n",
       "      <td>1</td>\n",
       "      <td>0.615816</td>\n",
       "      <td>84.940108</td>\n",
       "      <td>85</td>\n",
       "      <td>710</td>\n",
       "      <td>0.026917</td>\n",
       "      <td>[[[55.95856199581728, 29.005880728864014, -2.2...</td>\n",
       "      <td>-0.002528</td>\n",
       "      <td>0.009499</td>\n",
       "      <td>0.0</td>\n",
       "      <td>0.009830</td>\n",
       "      <td>23.096026</td>\n",
       "      <td>0.725</td>\n",
       "      <td>0.0514</td>\n",
       "    </tr>\n",
       "    <tr>\n",
       "      <th>3</th>\n",
       "      <td>270</td>\n",
       "      <td>85.0</td>\n",
       "      <td>1</td>\n",
       "      <td>0.570038</td>\n",
       "      <td>78.625945</td>\n",
       "      <td>80</td>\n",
       "      <td>3126</td>\n",
       "      <td>0.011321</td>\n",
       "      <td>[[[22.40558021185845, -38.76367608095813, 10.2...</td>\n",
       "      <td>0.000317</td>\n",
       "      <td>0.004122</td>\n",
       "      <td>0.0</td>\n",
       "      <td>0.004134</td>\n",
       "      <td>21.336266</td>\n",
       "      <td>0.725</td>\n",
       "      <td>0.0514</td>\n",
       "    </tr>\n",
       "    <tr>\n",
       "      <th>4</th>\n",
       "      <td>269</td>\n",
       "      <td>85.0</td>\n",
       "      <td>1</td>\n",
       "      <td>0.571563</td>\n",
       "      <td>78.836340</td>\n",
       "      <td>80</td>\n",
       "      <td>1414</td>\n",
       "      <td>0.036897</td>\n",
       "      <td>[[[21.053144734401204, 30.64708034742381, 44.2...</td>\n",
       "      <td>0.002947</td>\n",
       "      <td>0.013148</td>\n",
       "      <td>0.0</td>\n",
       "      <td>0.013475</td>\n",
       "      <td>28.824730</td>\n",
       "      <td>0.725</td>\n",
       "      <td>0.0514</td>\n",
       "    </tr>\n",
       "  </tbody>\n",
       "</table>\n",
       "</div>"
      ],
      "text/plain": [
       "   Trial  Snake  Beh       gsm        gsr  gs_bin  TInd     TNorm  \\\n",
       "0    274   85.0    1  0.622154  85.814306      85   378  0.025966   \n",
       "1    272   85.0    1  0.615736  84.929116      85   189  0.027637   \n",
       "2    271   85.0    1  0.615816  84.940108      85   710  0.026917   \n",
       "3    270   85.0    1  0.570038  78.625945      80  3126  0.011321   \n",
       "4    269   85.0    1  0.571563  78.836340      80  1414  0.036897   \n",
       "\n",
       "                                                TPos    x_torq    y_torq  \\\n",
       "0  [[[29.052959038533505, 58.66783431129612, -31.... -0.008356  0.004713   \n",
       "1  [[[79.73080467778203, 3.1201594521259244, -8.5...  0.003974  0.009278   \n",
       "2  [[[55.95856199581728, 29.005880728864014, -2.2... -0.002528  0.009499   \n",
       "3  [[[22.40558021185845, -38.76367608095813, 10.2...  0.000317  0.004122   \n",
       "4  [[[21.053144734401204, 30.64708034742381, 44.2...  0.002947  0.013148   \n",
       "\n",
       "   z_torq       res        hpt    svl    mass  \n",
       "0     0.0  0.009593  15.673883  0.725  0.0520  \n",
       "1     0.0  0.010093  25.323470  0.725  0.0514  \n",
       "2     0.0  0.009830  23.096026  0.725  0.0514  \n",
       "3     0.0  0.004134  21.336266  0.725  0.0514  \n",
       "4     0.0  0.013475  28.824730  0.725  0.0514  "
      ]
     },
     "execution_count": 15,
     "metadata": {},
     "output_type": "execute_result"
    }
   ],
   "source": [
    "tdata.head()"
   ]
  },
  {
   "cell_type": "code",
   "execution_count": 16,
   "metadata": {
    "executionInfo": {
     "elapsed": 1711,
     "status": "aborted",
     "timestamp": 1611670941386,
     "user": {
      "displayName": "Michelle Graham",
      "photoUrl": "https://lh3.googleusercontent.com/a-/AOh14Ght-z2w4iHp3ev9e1yZJOd6SqD4iXtD4B_lzO9bbgOKw_-ygfMKaEeAOtP4ggxYfI-7V9-4rYSBK1dhZuEX8rVDKwvw-eYQxTLV3f2ZD_EI2l3g7vssfo2Uct22tb84c6eICTja5kdxrnRb7N6qiz9u25-yF1vFQQnmptZLjxRjPlwhxiHZjmnhFIWtZ0PA_R8nFHB5NbmLNscBEEtuZLy12sFsPE3Uq_3w314q_xw9p1HlChwD_hwtKahfe7Z8ayo-VylGRNnPtLE4YE7TkaprpX1MhXdGuXvSl5RJlJwT7p4n4ZHAbSk_kvm4Rk_kjqA7g_4Kpmunmg61NPq4UXef1gmDlB9-KTnc6lVg3e3Dlev_rMHt4HFxrlArllnajUKZf4hKi_aj3Ps64vr_-UMgasJGRKWOur3piutGz5jruYPt0nm8vSjYarKq4Du6aTDn9m1COwj9ooQzcYUVUcKwdTjnDanzkIXOY8z9ypD8ZpaBHL5ooE7FlyrIUGSwZIHNssJy79yCCgjngqz15ANivnF37vJQ15EIoiLvlgBlGnXhRz8MvMHO74CQ2HQgbBzqVi206CkLMe2sW05lfAPgCucvccOaThXx460NnoCC0_mDBDH_BidCUS2dR1Ej6uuoGuFDyMZJVDeN3J46IFKpO__WoUp4GZq3ruFwKBOFeC9yPAJiSH2UVqs5ZX2O3YKOZy6HOihmdo0qmKCYgD4AivBI7-chUjUpi5MSe_lBk8Idvt4863HuTyy-B2esXlFcqg=s64",
      "userId": "15789755655632922425"
     },
     "user_tz": 300
    },
    "id": "HfZOttwwElf1"
   },
   "outputs": [],
   "source": [
    "#save as csv to use in R\n",
    "tsub = tdata.drop('TPos',axis=1) #not needed in stats analysis\n",
    "tsub = tsub.drop('z_torq',axis=1) #not needed in stats analysis\n",
    "tsub = tsub.drop('TInd',axis=1) #not needed in stats analysis\n",
    "tsub = tsub[tsub.Beh != 0] #only studying transition torques for noncantilevers (cantilevers have no transition)\n",
    "tsub = tsub.drop('Beh',axis=1) #since all trials in this dataset will be noncantilevers, don't need a behavior column\n",
    "\n",
    "tsub.to_csv(cwd+'/R files/Summary Datasets/tdata.csv',index=False)"
   ]
  },
  {
   "cell_type": "code",
   "execution_count": null,
   "metadata": {},
   "outputs": [],
   "source": []
  }
 ],
 "metadata": {
  "colab": {
   "name": "Torque Analyses.ipynb",
   "provenance": []
  },
  "kernelspec": {
   "display_name": "Anaconda",
   "language": "python",
   "name": "anaconda"
  },
  "language_info": {
   "codemirror_mode": {
    "name": "ipython",
    "version": 3
   },
   "file_extension": ".py",
   "mimetype": "text/x-python",
   "name": "python",
   "nbconvert_exporter": "python",
   "pygments_lexer": "ipython3",
   "version": "3.7.4"
  }
 },
 "nbformat": 4,
 "nbformat_minor": 1
}
